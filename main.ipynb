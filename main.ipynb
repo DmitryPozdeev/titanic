{
  "nbformat": 4,
  "nbformat_minor": 0,
  "metadata": {
    "colab": {
      "name": "Untitled0.ipynb",
      "provenance": [],
      "collapsed_sections": [],
      "mount_file_id": "1K19z5oYi5Es9x1C3Ik0kN62Z0wEBbY57",
      "authorship_tag": "ABX9TyNpmFh+expx9BKCQjgYc4v3",
      "include_colab_link": true
    },
    "kernelspec": {
      "name": "python3",
      "display_name": "Python 3"
    },
    "accelerator": "GPU"
  },
  "cells": [
    {
      "cell_type": "markdown",
      "metadata": {
        "id": "view-in-github",
        "colab_type": "text"
      },
      "source": [
        "<a href=\"https://colab.research.google.com/github/DmitryPozdeev/titanic/blob/master/main.ipynb\" target=\"_parent\"><img src=\"https://colab.research.google.com/assets/colab-badge.svg\" alt=\"Open In Colab\"/></a>"
      ]
    },
    {
      "cell_type": "code",
      "metadata": {
        "id": "fXKQdDCDzkSC",
        "colab_type": "code",
        "colab": {}
      },
      "source": [
        "import tensorflow as tf\n",
        "import numpy as np\n",
        "import matplotlib.pyplot as plt\n",
        "import seaborn as sns\n",
        "import pandas as pd"
      ],
      "execution_count": 56,
      "outputs": []
    },
    {
      "cell_type": "code",
      "metadata": {
        "id": "IeidhId-z9q8",
        "colab_type": "code",
        "colab": {}
      },
      "source": [
        "train_data = pd.read_csv('input_titanic/train.csv').fillna(0)\n",
        "test_data = pd.read_csv('input_titanic/test.csv').fillna(0)"
      ],
      "execution_count": 207,
      "outputs": []
    },
    {
      "cell_type": "code",
      "metadata": {
        "id": "H0x9T_2NETec",
        "colab_type": "code",
        "colab": {}
      },
      "source": [
        "g = sns.catplot(x=\"Parch\", y=\"Survived\", data=train_data,\n",
        "                height=6, kind=\"bar\", palette=\"muted\")\n",
        "g.despine(left=True)\n",
        "g.set_ylabels(\"survival probability\")"
      ],
      "execution_count": null,
      "outputs": []
    },
    {
      "cell_type": "code",
      "metadata": {
        "id": "RbUcQJRb2-Go",
        "colab_type": "code",
        "colab": {}
      },
      "source": [
        "sns.countplot( x = 'Survived', data = train_data)"
      ],
      "execution_count": null,
      "outputs": []
    },
    {
      "cell_type": "code",
      "metadata": {
        "id": "iHLxs5nC3Xvd",
        "colab_type": "code",
        "colab": {}
      },
      "source": [
        "sns.countplot( x = 'Survived', hue = 'Sex', data = train_data)"
      ],
      "execution_count": null,
      "outputs": []
    },
    {
      "cell_type": "code",
      "metadata": {
        "id": "VJy-gEhC41hr",
        "colab_type": "code",
        "colab": {}
      },
      "source": [
        "sns.countplot( x = 'Survived', hue = 'Pclass', data = train_data)"
      ],
      "execution_count": null,
      "outputs": []
    },
    {
      "cell_type": "code",
      "metadata": {
        "id": "GKFU2CO26Iwv",
        "colab_type": "code",
        "colab": {}
      },
      "source": [
        "train_data[['Sex']] = train_data[['Sex']].replace('male', 1).replace('female', 0)\n",
        "train_data[['Pclass']] = train_data[['Pclass']]\n",
        "train_data[['Age']] = train_data[['Age']] / 100\n",
        "train_data[['Fare']] = train_data[['Fare']] / 100\n",
        "train_data[['Parch']] = train_data[['Parch']] / 10\n",
        "train = train_data[['Pclass', 'Sex', 'Parch', 'Age','Fare']]\n",
        "test = train_data[['Survived']]"
      ],
      "execution_count": 208,
      "outputs": []
    },
    {
      "cell_type": "code",
      "metadata": {
        "id": "_k7FVvfJ9bSY",
        "colab_type": "code",
        "colab": {}
      },
      "source": [
        "x_train = train.to_numpy()[:800]\n",
        "x_test = test.to_numpy()[:800]\n",
        "\n",
        "y_train = train.to_numpy()[800:]\n",
        "y_test = test.to_numpy()[800:]"
      ],
      "execution_count": 209,
      "outputs": []
    },
    {
      "cell_type": "code",
      "metadata": {
        "id": "EuwQEyQZAo7A",
        "colab_type": "code",
        "colab": {}
      },
      "source": [
        "test_data[['Sex']] = test_data[['Sex']].replace('male', 1).replace('female', 0)\n",
        "test_data[['Pclass']] = test_data[['Pclass']]\n",
        "test_data[['Age']] = test_data[['Age']] / 100\n",
        "test_data[['Fare']] = test_data[['Fare']] / 100\n",
        "test_data[['Parch']] = test_data[['Parch']] / 10\n",
        "\n",
        "export_test_data = test_data[['Pclass', 'Sex', 'Parch', 'Age','Fare']].to_numpy()\n",
        "export_ids = test_data[['PassengerId']].to_numpy()"
      ],
      "execution_count": 152,
      "outputs": []
    },
    {
      "cell_type": "code",
      "metadata": {
        "id": "yjdlsaXqBEPF",
        "colab_type": "code",
        "colab": {}
      },
      "source": [
        "print(export_test_data[:10])"
      ],
      "execution_count": null,
      "outputs": []
    },
    {
      "cell_type": "code",
      "metadata": {
        "id": "PEEwf98d-hDc",
        "colab_type": "code",
        "colab": {}
      },
      "source": [
        "with np.printoptions(threshold=np.inf):\n",
        "    print(x_train[:15])"
      ],
      "execution_count": null,
      "outputs": []
    },
    {
      "cell_type": "code",
      "metadata": {
        "id": "QXQCULW1-SBM",
        "colab_type": "code",
        "colab": {}
      },
      "source": [
        "print(x_train.shape)\n",
        "print(y_train.shape)\n",
        "print(x_test.shape)"
      ],
      "execution_count": null,
      "outputs": []
    },
    {
      "cell_type": "code",
      "metadata": {
        "id": "zcTb3ZIT5bF3",
        "colab_type": "code",
        "colab": {}
      },
      "source": [
        "model = tf.keras.models.Sequential([\n",
        "    tf.keras.layers.Dense(250, activation=tf.nn.relu),\n",
        "    tf.keras.layers.Dense(120, activation=tf.nn.relu),\n",
        "    tf.keras.layers.Dense(10, activation=tf.nn.relu),\n",
        "    tf.keras.layers.Dense(2, activation=tf.nn.softmax)\n",
        "])\n",
        "model.compile(optimizer='adam', loss='sparse_categorical_crossentropy', metrics=['accuracy'])\n",
        "model.fit(x_train, x_test, epochs=150)"
      ],
      "execution_count": null,
      "outputs": []
    },
    {
      "cell_type": "code",
      "metadata": {
        "id": "pZd4kz9SIJJB",
        "colab_type": "code",
        "colab": {}
      },
      "source": [
        "model.evaluate(y_train, y_test)"
      ],
      "execution_count": null,
      "outputs": []
    },
    {
      "cell_type": "code",
      "metadata": {
        "id": "mxqzxaBPAneI",
        "colab_type": "code",
        "colab": {}
      },
      "source": [
        "result = tf.argmax(model.predict(export_test_data),1).numpy()"
      ],
      "execution_count": 211,
      "outputs": []
    },
    {
      "cell_type": "code",
      "metadata": {
        "id": "0UA87ooPKT8B",
        "colab_type": "code",
        "colab": {}
      },
      "source": [
        "result = np.array(result, dtype=np.int)\n",
        "result = result.reshape(418, 1)\n",
        "structuredArr = np.concatenate((export_ids, result), axis=1)"
      ],
      "execution_count": null,
      "outputs": []
    },
    {
      "cell_type": "code",
      "metadata": {
        "id": "hGOzBpVCMIjJ",
        "colab_type": "code",
        "colab": {}
      },
      "source": [
        "np.savetxt('submition.csv', structuredArr, delimiter=',', fmt=['%i' , '%i'], header='PassengerId,Survived', comments='')"
      ],
      "execution_count": 216,
      "outputs": []
    }
  ]
}